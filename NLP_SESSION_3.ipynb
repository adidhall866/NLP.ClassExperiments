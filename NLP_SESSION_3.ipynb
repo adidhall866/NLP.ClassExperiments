{
 "cells": [
  {
   "cell_type": "markdown",
   "metadata": {},
   "source": [
    "# Stemming Alorithms"
   ]
  },
  {
   "cell_type": "code",
   "execution_count": 12,
   "metadata": {},
   "outputs": [],
   "source": [
    "words = ['happy','happines','worry','worried','connect','connected','connections','sarcasm','sarcastic','lazy','laziness']"
   ]
  },
  {
   "cell_type": "markdown",
   "metadata": {},
   "source": [
    "**Porter Stemmer**"
   ]
  },
  {
   "cell_type": "code",
   "execution_count": 8,
   "metadata": {},
   "outputs": [],
   "source": [
    "import nltk\n",
    "from nltk.stem import PorterStemmer\n",
    "ps = PorterStemmer()"
   ]
  },
  {
   "cell_type": "code",
   "execution_count": 13,
   "metadata": {},
   "outputs": [
    {
     "name": "stdout",
     "output_type": "stream",
     "text": [
      "happi\n",
      "happin\n",
      "worri\n",
      "worri\n",
      "connect\n",
      "connect\n",
      "connect\n",
      "sarcasm\n",
      "sarcast\n",
      "lazi\n",
      "lazi\n"
     ]
    }
   ],
   "source": [
    "for word in words:\n",
    "    print(ps.stem(word))"
   ]
  },
  {
   "cell_type": "markdown",
   "metadata": {},
   "source": [
    "**Lancaster Stemmer**"
   ]
  },
  {
   "cell_type": "code",
   "execution_count": 14,
   "metadata": {},
   "outputs": [],
   "source": [
    "from nltk.stem.lancaster import LancasterStemmer\n",
    "ls = LancasterStemmer()"
   ]
  },
  {
   "cell_type": "code",
   "execution_count": 15,
   "metadata": {},
   "outputs": [
    {
     "name": "stdout",
     "output_type": "stream",
     "text": [
      "happy\n",
      "happin\n",
      "worry\n",
      "worry\n",
      "connect\n",
      "connect\n",
      "connect\n",
      "sarcasm\n",
      "sarcast\n",
      "lazy\n",
      "lazy\n"
     ]
    }
   ],
   "source": [
    "for word in words:\n",
    "    print(ls.stem(word))"
   ]
  },
  {
   "cell_type": "markdown",
   "metadata": {},
   "source": [
    "**Snowball Stemmer**"
   ]
  },
  {
   "cell_type": "code",
   "execution_count": 18,
   "metadata": {},
   "outputs": [],
   "source": [
    "from nltk.stem.snowball import SnowballStemmer\n",
    "ss = SnowballStemmer('english')"
   ]
  },
  {
   "cell_type": "code",
   "execution_count": 19,
   "metadata": {},
   "outputs": [
    {
     "name": "stdout",
     "output_type": "stream",
     "text": [
      "happi\n",
      "happin\n",
      "worri\n",
      "worri\n",
      "connect\n",
      "connect\n",
      "connect\n",
      "sarcasm\n",
      "sarcast\n",
      "lazi\n",
      "lazi\n"
     ]
    }
   ],
   "source": [
    "for word in words:\n",
    "    print(ss.stem(word))"
   ]
  },
  {
   "cell_type": "markdown",
   "metadata": {},
   "source": [
    "**Regexp Stemmer**"
   ]
  },
  {
   "cell_type": "code",
   "execution_count": 3,
   "metadata": {},
   "outputs": [],
   "source": [
    "from nltk.stem import RegexpStemmer\n",
    "st = RegexpStemmer('ing$|s$|e$|able$',min = 4)"
   ]
  },
  {
   "cell_type": "code",
   "execution_count": 4,
   "metadata": {},
   "outputs": [
    {
     "name": "stdout",
     "output_type": "stream",
     "text": [
      "car\n",
      "mas\n",
      "bee\n",
      "comput\n",
      "advis\n",
      "predilection\n"
     ]
    }
   ],
   "source": [
    "print(st.stem('cars'))\n",
    "print(st.stem('mass'))\n",
    "print(st.stem('bee'))\n",
    "print(st.stem('compute'))\n",
    "print(st.stem('advisable'))\n",
    "print(st.stem('predilections'))"
   ]
  },
  {
   "cell_type": "markdown",
   "metadata": {},
   "source": [
    "**Wordnet Lemmatizer**"
   ]
  },
  {
   "cell_type": "code",
   "execution_count": 5,
   "metadata": {},
   "outputs": [],
   "source": [
    "from nltk.stem import WordNetLemmatizer\n",
    "wnl = WordNetLemmatizer()"
   ]
  },
  {
   "cell_type": "code",
   "execution_count": 6,
   "metadata": {},
   "outputs": [
    {
     "name": "stdout",
     "output_type": "stream",
     "text": [
      "dog\n",
      "ringing\n",
      "surreptitious\n",
      "advisable\n",
      "multiply\n",
      "presumably\n"
     ]
    }
   ],
   "source": [
    "print(wnl.lemmatize('dogs'))\n",
    "print(wnl.lemmatize('ringing'))\n",
    "print(wnl.lemmatize('surreptitious'))\n",
    "print(wnl.lemmatize('advisable'))\n",
    "print(wnl.lemmatize('multiply'))\n",
    "print(wnl.lemmatize('presumably'))"
   ]
  },
  {
   "cell_type": "code",
   "execution_count": 7,
   "metadata": {},
   "outputs": [
    {
     "name": "stdout",
     "output_type": "stream",
     "text": [
      "loving\n",
      "love\n"
     ]
    }
   ],
   "source": [
    "print(wnl.lemmatize('loving'))\n",
    "print(wnl.lemmatize('loving', 'v'))"
   ]
  },
  {
   "cell_type": "code",
   "execution_count": null,
   "metadata": {},
   "outputs": [],
   "source": []
  }
 ],
 "metadata": {
  "kernelspec": {
   "display_name": "Python 3",
   "language": "python",
   "name": "python3"
  },
  "language_info": {
   "codemirror_mode": {
    "name": "ipython",
    "version": 3
   },
   "file_extension": ".py",
   "mimetype": "text/x-python",
   "name": "python",
   "nbconvert_exporter": "python",
   "pygments_lexer": "ipython3",
   "version": "3.6.5"
  }
 },
 "nbformat": 4,
 "nbformat_minor": 2
}
